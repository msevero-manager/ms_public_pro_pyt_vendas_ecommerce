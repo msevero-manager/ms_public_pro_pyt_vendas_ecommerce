{
 "cells": [
  {
   "cell_type": "markdown",
   "id": "aba53837",
   "metadata": {},
   "source": [
    "### **Understanding the Problem**\n",
    "\n",
    "After discussing with the stakeholders, it was decided that by the end of the project we should be able to answer four main questions:\n",
    "\n",
    "* What are the top 10 best-selling products?\n",
    "* What was the monthly revenue?\n",
    "* What is the total sales quantity by state?\n",
    "* What is the revenue by category?\n",
    "\n",
    "**Note:** Only internal data will be used; there is no need for third-party resources.\n",
    "\n",
    "---\n",
    "\n",
    "### **Process**\n",
    "\n",
    "We decided to manage the project using the Agile framework, divided into two sprints. Each sprint will focus on delivering insights for two of the questions above. If the analysis is completed ahead of schedule, a full project demonstration may be presented earlier.\n",
    "\n",
    "* **US 01 [SPT 01]** – What are the top 10 best-selling products?\n",
    "* **US 02 [SPT 01]** – What was the monthly revenue?\n",
    "* **US 03 [SPT 02]** – What is the total sales quantity by state?\n",
    "* **US 04 [SPT 02]** – What is the revenue by category?\n",
    "\n",
    "---\n",
    "\n",
    "Quer que eu deixe o texto mais **formal e corporativo** (para relatórios ou apresentações executivas) ou **mais técnico e direto** (para documentação de projeto ou GitHub)?\n"
   ]
  },
  {
   "cell_type": "markdown",
   "id": "4f2ace81",
   "metadata": {},
   "source": []
  }
 ],
 "metadata": {
  "language_info": {
   "name": "python"
  }
 },
 "nbformat": 4,
 "nbformat_minor": 5
}
