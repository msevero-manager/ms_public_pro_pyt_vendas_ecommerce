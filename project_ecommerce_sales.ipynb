{
 "cells": [
  {
   "cell_type": "markdown",
   "id": "9f4a6fa5",
   "metadata": {},
   "source": [
    "### **Data Cleaning and Exploratory Analysis**"
   ]
  },
  {
   "cell_type": "markdown",
   "id": "50462a85",
   "metadata": {},
   "source": [
    "#### **Import libraries**"
   ]
  },
  {
   "cell_type": "code",
   "execution_count": 1,
   "id": "b9f37ba7",
   "metadata": {},
   "outputs": [],
   "source": [
    "# Import the custom function 'gera_dados' from the local module 'gerar_dados_aleatorios'\n",
    "from modules.gerar_dados_aleatorios import gera_dados as gd\n",
    "\n",
    "# Import date and time utilities for handling timestamps and time intervals\n",
    "from datetime import datetime, timedelta\n",
    "\n",
    "# Import data visualization libraries\n",
    "import matplotlib.pyplot as plt\n",
    "import seaborn as sns\n",
    "\n",
    "# Import data manipulation and numerical computation libraries\n",
    "import pandas as pd\n",
    "import numpy as np\n",
    "\n",
    "# Import the 'random' module for generating random numbers\n",
    "import random"
   ]
  },
  {
   "cell_type": "markdown",
   "id": "2e1f22dc",
   "metadata": {},
   "source": [
    "### **Create functions**"
   ]
  },
  {
   "cell_type": "code",
   "execution_count": 2,
   "id": "399e8530",
   "metadata": {},
   "outputs": [],
   "source": [
    "# Function to format numeric values into millions with a currency symbol (Brazilian Real)\n",
    "# Example: 3500000 -> 'R$ 3.50 Mi'\n",
    "def formatador_milhoes(y, pos):\n",
    "    return f'R$ {y/1_000_000:.2f} Mi'"
   ]
  },
  {
   "cell_type": "code",
   "execution_count": 3,
   "id": "68f505f2",
   "metadata": {},
   "outputs": [],
   "source": [
    "# Function to format percentage labels for charts (e.g., pie charts)\n",
    "# It shows both the percentage and the corresponding absolute value in millions\n",
    "# Example: 25%, R$ 2.50 Mi\n",
    "def formatar_valores(pct, allvals):\n",
    "    absolute = pct/100. * sum(allvals)\n",
    "    return f'{pct:.1f}%\\nR$ {absolute/1_000_000:.2f} Mi'"
   ]
  }
 ],
 "metadata": {
  "kernelspec": {
   "display_name": ".venv (3.13.7)",
   "language": "python",
   "name": "python3"
  },
  "language_info": {
   "codemirror_mode": {
    "name": "ipython",
    "version": 3
   },
   "file_extension": ".py",
   "mimetype": "text/x-python",
   "name": "python",
   "nbconvert_exporter": "python",
   "pygments_lexer": "ipython3",
   "version": "3.13.7"
  }
 },
 "nbformat": 4,
 "nbformat_minor": 5
}
