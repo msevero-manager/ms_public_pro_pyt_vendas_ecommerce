{
 "cells": [
  {
   "cell_type": "markdown",
   "id": "9f4a6fa5",
   "metadata": {},
   "source": [
    "### **Data Cleaning and Exploratory Analysis**"
   ]
  },
  {
   "cell_type": "markdown",
   "id": "50462a85",
   "metadata": {},
   "source": [
    "#### **Import libraries**"
   ]
  },
  {
   "cell_type": "code",
   "execution_count": 243,
   "id": "b9f37ba7",
   "metadata": {},
   "outputs": [],
   "source": [
    "# Import the custom function 'gera_dados' from the local module 'gerar_dados_aleatorios'\n",
    "from modules.generae_random_sales_data import GenerateData as gd\n",
    "\n",
    "from matplotlib.ticker import FuncFormatter\n",
    "\n",
    "# Import date and time utilities for handling timestamps and time intervals\n",
    "from datetime import datetime, timedelta\n",
    "\n",
    "# Import data visualization libraries\n",
    "import matplotlib.pyplot as plt\n",
    "import seaborn as sns\n",
    "\n",
    "# Import data manipulation and numerical computation libraries\n",
    "import pandas as pd\n",
    "import numpy as np\n",
    "\n",
    "# Import the 'random' module for generating random numbers\n",
    "import random"
   ]
  },
  {
   "cell_type": "markdown",
   "id": "2e1f22dc",
   "metadata": {},
   "source": [
    "#### **Create functions**"
   ]
  },
  {
   "cell_type": "code",
   "execution_count": 244,
   "id": "0769c047",
   "metadata": {},
   "outputs": [],
   "source": [
    "def format_millions(x, pos):\n",
    "    \"\"\"\n",
    "    Format monetary values in millions with 'R$' and 'Mi' suffix.\n",
    "    Example: 12500000 -> R$ 12.50 Mi\n",
    "    \"\"\"\n",
    "    return f'R$ {x / 1_000_000:.2f} Mi'\n",
    "\n",
    "\n",
    "def format_number(x, pos):\n",
    "    \"\"\"\n",
    "    Format numbers with thousand separators (Brazilian format).\n",
    "    Example: 1250000 -> 1.250.000\n",
    "    \"\"\"\n",
    "    return f'{int(x):,}'.replace(',', '.')\n",
    "\n",
    "\n",
    "def format_percentage_values(pct, data):\n",
    "    \"\"\"\n",
    "    Format percentages for pie charts, showing both percent and absolute value.\n",
    "    Example: 25% (12.500)\n",
    "    \"\"\"\n",
    "    total = sum(data)\n",
    "    absolute = int(round(pct * total / 100.0))\n",
    "    formatted_value = f'{absolute:,}'.replace(',', '.')\n",
    "    return f'{pct:.1f}%\\n({formatted_value})'\n",
    "\n",
    "\n",
    "# Generic chart function\n",
    "def create_chart(data, title, xlabel='', ylabel='', chart_type='bar', monetary=False):\n",
    "    \"\"\"\n",
    "    Creates a customizable chart (bar, barh, line, or pie) with formatted labels.\n",
    "    \n",
    "    Parameters:\n",
    "        data (pd.Series or pd.DataFrame): Data to plot\n",
    "        title (str): Chart title\n",
    "        xlabel (str): X-axis label\n",
    "        ylabel (str): Y-axis label\n",
    "        chart_type (str): Type of chart ('bar', 'barh', 'line', 'pie')\n",
    "        monetary (bool): Whether to format numbers as currency (True) or plain numbers (False)\n",
    "    \"\"\"\n",
    "\n",
    "    sns.set_style('whitegrid')\n",
    "    fig, ax = plt.subplots(figsize=(12, 6))\n",
    "    colors = sns.color_palette(\"coolwarm\", len(data))\n",
    "\n",
    "    # Choose the right formatter\n",
    "    formatter = FuncFormatter(format_millions if monetary else format_number)\n",
    "\n",
    "    # --- Bar Chart ---\n",
    "    if chart_type == 'bar':\n",
    "        data.plot(kind='bar', color=colors, ax=ax)\n",
    "        ax.yaxis.set_major_formatter(formatter)\n",
    "        plt.xticks(rotation=0)\n",
    "        ax.grid(False)\n",
    "        \n",
    "        # Add value labels\n",
    "        for i, v in enumerate(data):\n",
    "            label = f'R$ {v / 1_000_000:.2f} Mi' if monetary else f'{int(v):,}'.replace(',', '.')\n",
    "            ax.text(i, v + (v * 0.01), label, ha='center', va='bottom', fontsize=10, color='black')\n",
    "\n",
    "    # --- Horizontal Bar Chart ---\n",
    "    elif chart_type == 'barh':\n",
    "        data.sort_values(ascending=True).plot(kind='barh', color=colors, ax=ax)\n",
    "        ax.xaxis.set_major_formatter(formatter)\n",
    "        \n",
    "        for i, v in enumerate(data.sort_values(ascending=True)):\n",
    "            label = f'R$ {v / 1_000_000:.2f} Mi' if monetary else f'{int(v):,}'.replace(',', '.')\n",
    "            ax.text(v + (v * 0.01), i, label, va='center', fontsize=9, color='black')\n",
    "\n",
    "    # --- Line Chart ---\n",
    "    elif chart_type == 'line':\n",
    "        data.plot(kind='line', marker='o', color='green', ax=ax)\n",
    "        ax.yaxis.set_major_formatter(formatter)\n",
    "        ax.grid(True, which='both', linestyle='--', linewidth=0.5)\n",
    "\n",
    "        for i, v in enumerate(data):\n",
    "            label = f'R$ {v / 1_000_000:.2f} Mi' if monetary else f'{int(v):,}'.replace(',', '.')\n",
    "            ax.text(i, v + (max(data) * 0.02), label, ha='center', va='bottom', fontsize=9, color='black')\n",
    "\n",
    "    # --- Pie Chart ---\n",
    "    elif chart_type == 'pie':\n",
    "        colors = sns.color_palette(\"Set3\", len(data))\n",
    "        data.plot(\n",
    "            kind='pie',\n",
    "            colors=colors,\n",
    "            autopct=lambda pct: format_percentage_values(pct, data),\n",
    "            startangle=90,\n",
    "            wedgeprops={'edgecolor': 'white', 'linewidth': 1.5},\n",
    "            ax=ax\n",
    "        )\n",
    "        ax.set_ylabel('')\n",
    "\n",
    "    # Titles and labels\n",
    "    plt.title(title, fontsize=16, pad=20)\n",
    "    plt.xlabel(xlabel, fontsize=12)\n",
    "    plt.ylabel(ylabel, fontsize=12)\n",
    "    plt.tight_layout()\n",
    "\n",
    "    return fig, ax"
   ]
  },
  {
   "cell_type": "code",
   "execution_count": 245,
   "id": "ed51793d",
   "metadata": {},
   "outputs": [],
   "source": [
    "# Function to format a numeric value as Brazilian Real currency\n",
    "# Example: 1234567.89 -> 'R$ 1,234,567.89'\n",
    "def format_brl(value):\n",
    "    return f'R$ {value:,.2f}'"
   ]
  },
  {
   "cell_type": "markdown",
   "id": "2bc432f8",
   "metadata": {},
   "source": [
    "#### **Create a random dataset**"
   ]
  },
  {
   "cell_type": "code",
   "execution_count": 246,
   "id": "e442d778",
   "metadata": {},
   "outputs": [
    {
     "name": "stdout",
     "output_type": "stream",
     "text": [
      "\n",
      "Starting the generation of 600 records...\n",
      "Data generation completed successfully.\n",
      "\n"
     ]
    }
   ],
   "source": [
    "# Create a random dataFrame\n",
    "df_sales = gd.generate_fake_data()"
   ]
  },
  {
   "cell_type": "markdown",
   "id": "1c7f8ab9",
   "metadata": {},
   "source": [
    "#### **Exploratory Data Analysis**"
   ]
  },
  {
   "cell_type": "code",
   "execution_count": 247,
   "id": "7df99d3c",
   "metadata": {},
   "outputs": [
    {
     "data": {
      "text/html": [
       "<div>\n",
       "<style scoped>\n",
       "    .dataframe tbody tr th:only-of-type {\n",
       "        vertical-align: middle;\n",
       "    }\n",
       "\n",
       "    .dataframe tbody tr th {\n",
       "        vertical-align: top;\n",
       "    }\n",
       "\n",
       "    .dataframe thead th {\n",
       "        text-align: right;\n",
       "    }\n",
       "</style>\n",
       "<table border=\"1\" class=\"dataframe\">\n",
       "  <thead>\n",
       "    <tr style=\"text-align: right;\">\n",
       "      <th></th>\n",
       "      <th>Order_ID</th>\n",
       "      <th>Order_Date</th>\n",
       "      <th>Product_Name</th>\n",
       "      <th>Category</th>\n",
       "      <th>Unit_Price</th>\n",
       "      <th>Quantity</th>\n",
       "      <th>Customer_ID</th>\n",
       "      <th>City</th>\n",
       "      <th>State</th>\n",
       "    </tr>\n",
       "  </thead>\n",
       "  <tbody>\n",
       "    <tr>\n",
       "      <th>0</th>\n",
       "      <td>1000</td>\n",
       "      <td>2026-01-01 05:00:00</td>\n",
       "      <td>Gaming Laptop</td>\n",
       "      <td>Electronics</td>\n",
       "      <td>7500.00</td>\n",
       "      <td>6</td>\n",
       "      <td>146</td>\n",
       "      <td>Porto Alegre</td>\n",
       "      <td>RS</td>\n",
       "    </tr>\n",
       "    <tr>\n",
       "      <th>1</th>\n",
       "      <td>1001</td>\n",
       "      <td>2026-01-01 10:00:00</td>\n",
       "      <td>Gaming Laptop</td>\n",
       "      <td>Electronics</td>\n",
       "      <td>7500.00</td>\n",
       "      <td>4</td>\n",
       "      <td>135</td>\n",
       "      <td>Porto Alegre</td>\n",
       "      <td>RS</td>\n",
       "    </tr>\n",
       "    <tr>\n",
       "      <th>2</th>\n",
       "      <td>1002</td>\n",
       "      <td>2026-01-01 09:00:00</td>\n",
       "      <td>Vertical Mouse</td>\n",
       "      <td>Accessories</td>\n",
       "      <td>230.24</td>\n",
       "      <td>4</td>\n",
       "      <td>124</td>\n",
       "      <td>Porto Alegre</td>\n",
       "      <td>RS</td>\n",
       "    </tr>\n",
       "    <tr>\n",
       "      <th>3</th>\n",
       "      <td>1003</td>\n",
       "      <td>2026-01-01 19:00:00</td>\n",
       "      <td>Ultrawide Monitor</td>\n",
       "      <td>Electronics</td>\n",
       "      <td>2800.00</td>\n",
       "      <td>4</td>\n",
       "      <td>135</td>\n",
       "      <td>Belo Horizonte</td>\n",
       "      <td>MG</td>\n",
       "    </tr>\n",
       "    <tr>\n",
       "      <th>4</th>\n",
       "      <td>1004</td>\n",
       "      <td>2026-01-01 04:00:00</td>\n",
       "      <td>Headset 7.1</td>\n",
       "      <td>Accessories</td>\n",
       "      <td>800.00</td>\n",
       "      <td>6</td>\n",
       "      <td>129</td>\n",
       "      <td>Porto Alegre</td>\n",
       "      <td>RS</td>\n",
       "    </tr>\n",
       "  </tbody>\n",
       "</table>\n",
       "</div>"
      ],
      "text/plain": [
       "   Order_ID          Order_Date       Product_Name     Category  Unit_Price  \\\n",
       "0      1000 2026-01-01 05:00:00      Gaming Laptop  Electronics     7500.00   \n",
       "1      1001 2026-01-01 10:00:00      Gaming Laptop  Electronics     7500.00   \n",
       "2      1002 2026-01-01 09:00:00     Vertical Mouse  Accessories      230.24   \n",
       "3      1003 2026-01-01 19:00:00  Ultrawide Monitor  Electronics     2800.00   \n",
       "4      1004 2026-01-01 04:00:00        Headset 7.1  Accessories      800.00   \n",
       "\n",
       "   Quantity  Customer_ID            City State  \n",
       "0         6          146    Porto Alegre    RS  \n",
       "1         4          135    Porto Alegre    RS  \n",
       "2         4          124    Porto Alegre    RS  \n",
       "3         4          135  Belo Horizonte    MG  \n",
       "4         6          129    Porto Alegre    RS  "
      ]
     },
     "execution_count": 247,
     "metadata": {},
     "output_type": "execute_result"
    }
   ],
   "source": [
    "# Check the first 5 records\n",
    "df_sales.head()"
   ]
  },
  {
   "cell_type": "code",
   "execution_count": 248,
   "id": "5a56323b",
   "metadata": {},
   "outputs": [
    {
     "data": {
      "text/plain": [
       "(600, 9)"
      ]
     },
     "execution_count": 248,
     "metadata": {},
     "output_type": "execute_result"
    }
   ],
   "source": [
    "# Show how much lines and coluns the DataFrame has\n",
    "df_sales.shape"
   ]
  },
  {
   "cell_type": "code",
   "execution_count": 249,
   "id": "42ddeb82",
   "metadata": {},
   "outputs": [
    {
     "name": "stdout",
     "output_type": "stream",
     "text": [
      "<class 'pandas.core.frame.DataFrame'>\n",
      "RangeIndex: 600 entries, 0 to 599\n",
      "Data columns (total 9 columns):\n",
      " #   Column        Non-Null Count  Dtype         \n",
      "---  ------        --------------  -----         \n",
      " 0   Order_ID      600 non-null    int64         \n",
      " 1   Order_Date    600 non-null    datetime64[ns]\n",
      " 2   Product_Name  600 non-null    object        \n",
      " 3   Category      600 non-null    object        \n",
      " 4   Unit_Price    600 non-null    float64       \n",
      " 5   Quantity      600 non-null    int64         \n",
      " 6   Customer_ID   600 non-null    int64         \n",
      " 7   City          600 non-null    object        \n",
      " 8   State         600 non-null    object        \n",
      "dtypes: datetime64[ns](1), float64(1), int64(3), object(4)\n",
      "memory usage: 42.3+ KB\n"
     ]
    }
   ],
   "source": [
    "# Show important information (null, data type)\n",
    "df_sales.info()"
   ]
  },
  {
   "cell_type": "code",
   "execution_count": 250,
   "id": "32b6b9a3",
   "metadata": {},
   "outputs": [
    {
     "data": {
      "text/html": [
       "<div>\n",
       "<style scoped>\n",
       "    .dataframe tbody tr th:only-of-type {\n",
       "        vertical-align: middle;\n",
       "    }\n",
       "\n",
       "    .dataframe tbody tr th {\n",
       "        vertical-align: top;\n",
       "    }\n",
       "\n",
       "    .dataframe thead th {\n",
       "        text-align: right;\n",
       "    }\n",
       "</style>\n",
       "<table border=\"1\" class=\"dataframe\">\n",
       "  <thead>\n",
       "    <tr style=\"text-align: right;\">\n",
       "      <th></th>\n",
       "      <th>Unit_Price</th>\n",
       "      <th>Quantity</th>\n",
       "    </tr>\n",
       "  </thead>\n",
       "  <tbody>\n",
       "    <tr>\n",
       "      <th>count</th>\n",
       "      <td>600.000000</td>\n",
       "      <td>600.000000</td>\n",
       "    </tr>\n",
       "    <tr>\n",
       "      <th>mean</th>\n",
       "      <td>2060.624017</td>\n",
       "      <td>4.045000</td>\n",
       "    </tr>\n",
       "    <tr>\n",
       "      <th>std</th>\n",
       "      <td>2295.399789</td>\n",
       "      <td>2.063995</td>\n",
       "    </tr>\n",
       "    <tr>\n",
       "      <th>min</th>\n",
       "      <td>225.040000</td>\n",
       "      <td>1.000000</td>\n",
       "    </tr>\n",
       "    <tr>\n",
       "      <th>25%</th>\n",
       "      <td>543.540000</td>\n",
       "      <td>2.000000</td>\n",
       "    </tr>\n",
       "    <tr>\n",
       "      <th>50%</th>\n",
       "      <td>800.000000</td>\n",
       "      <td>4.000000</td>\n",
       "    </tr>\n",
       "    <tr>\n",
       "      <th>75%</th>\n",
       "      <td>2800.000000</td>\n",
       "      <td>6.000000</td>\n",
       "    </tr>\n",
       "    <tr>\n",
       "      <th>max</th>\n",
       "      <td>7500.000000</td>\n",
       "      <td>7.000000</td>\n",
       "    </tr>\n",
       "  </tbody>\n",
       "</table>\n",
       "</div>"
      ],
      "text/plain": [
       "        Unit_Price    Quantity\n",
       "count   600.000000  600.000000\n",
       "mean   2060.624017    4.045000\n",
       "std    2295.399789    2.063995\n",
       "min     225.040000    1.000000\n",
       "25%     543.540000    2.000000\n",
       "50%     800.000000    4.000000\n",
       "75%    2800.000000    6.000000\n",
       "max    7500.000000    7.000000"
      ]
     },
     "execution_count": 250,
     "metadata": {},
     "output_type": "execute_result"
    }
   ],
   "source": [
    "# Show statistics summary (mantain just important columns)\n",
    "df_sales[['Unit_Price', 'Quantity']].describe()"
   ]
  },
  {
   "cell_type": "code",
   "execution_count": 251,
   "id": "4c126fac",
   "metadata": {},
   "outputs": [
    {
     "data": {
      "text/plain": [
       "np.int64(0)"
      ]
     },
     "execution_count": 251,
     "metadata": {},
     "output_type": "execute_result"
    }
   ],
   "source": [
    "# Show duplicate values\n",
    "df_sales.duplicated().sum()"
   ]
  },
  {
   "cell_type": "code",
   "execution_count": 252,
   "id": "4498f351",
   "metadata": {},
   "outputs": [],
   "source": [
    "# Convert date columns to datetime type\n",
    "df_sales['Order_Date'] = pd.to_datetime(df_sales['Order_Date'])"
   ]
  },
  {
   "cell_type": "markdown",
   "id": "a67cf123",
   "metadata": {},
   "source": [
    "### **Addressing business-related questions**"
   ]
  },
  {
   "cell_type": "markdown",
   "id": "020bbfac",
   "metadata": {},
   "source": [
    "#### What are the top 10 best-selling products?"
   ]
  },
  {
   "cell_type": "code",
   "execution_count": 253,
   "id": "cc2bb2c9",
   "metadata": {},
   "outputs": [],
   "source": [
    "# Groups the sales data by product name and sums up the total quantity sold for each product\n",
    "top_10_products_by_quantity = df_sales.groupby(\n",
    "    'Product_Name'\n",
    ")['Quantity'].sum().sort_values(ascending = False)"
   ]
  },
  {
   "cell_type": "code",
   "execution_count": 254,
   "id": "5eeaf273",
   "metadata": {},
   "outputs": [
    {
     "data": {
      "text/html": [
       "<div>\n",
       "<style scoped>\n",
       "    .dataframe tbody tr th:only-of-type {\n",
       "        vertical-align: middle;\n",
       "    }\n",
       "\n",
       "    .dataframe tbody tr th {\n",
       "        vertical-align: top;\n",
       "    }\n",
       "\n",
       "    .dataframe thead th {\n",
       "        text-align: right;\n",
       "    }\n",
       "</style>\n",
       "<table border=\"1\" class=\"dataframe\">\n",
       "  <thead>\n",
       "    <tr style=\"text-align: right;\">\n",
       "      <th></th>\n",
       "      <th>Quantity</th>\n",
       "    </tr>\n",
       "    <tr>\n",
       "      <th>Product_Name</th>\n",
       "      <th></th>\n",
       "    </tr>\n",
       "  </thead>\n",
       "  <tbody>\n",
       "    <tr>\n",
       "      <th>SSD 1TB</th>\n",
       "      <td>370</td>\n",
       "    </tr>\n",
       "    <tr>\n",
       "      <th>Headset 7.1</th>\n",
       "      <td>325</td>\n",
       "    </tr>\n",
       "    <tr>\n",
       "      <th>Mechanical Keyboard</th>\n",
       "      <td>311</td>\n",
       "    </tr>\n",
       "    <tr>\n",
       "      <th>Vertical Mouse</th>\n",
       "      <td>307</td>\n",
       "    </tr>\n",
       "    <tr>\n",
       "      <th>Gaming Chair</th>\n",
       "      <td>303</td>\n",
       "    </tr>\n",
       "    <tr>\n",
       "      <th>Gaming Laptop</th>\n",
       "      <td>275</td>\n",
       "    </tr>\n",
       "    <tr>\n",
       "      <th>Graphics Card</th>\n",
       "      <td>270</td>\n",
       "    </tr>\n",
       "    <tr>\n",
       "      <th>Ultrawide Monitor</th>\n",
       "      <td>266</td>\n",
       "    </tr>\n",
       "  </tbody>\n",
       "</table>\n",
       "</div>"
      ],
      "text/plain": [
       "                     Quantity\n",
       "Product_Name                 \n",
       "SSD 1TB                   370\n",
       "Headset 7.1               325\n",
       "Mechanical Keyboard       311\n",
       "Vertical Mouse            307\n",
       "Gaming Chair              303\n",
       "Gaming Laptop             275\n",
       "Graphics Card             270\n",
       "Ultrawide Monitor         266"
      ]
     },
     "execution_count": 254,
     "metadata": {},
     "output_type": "execute_result"
    }
   ],
   "source": [
    "# Converts the result into a DataFrame for easier visualization and analysis\n",
    "pd.DataFrame(top_10_products_by_quantity)"
   ]
  },
  {
   "cell_type": "markdown",
   "id": "afe4c80b",
   "metadata": {},
   "source": [
    "#### What was the revenue for the month?"
   ]
  },
  {
   "cell_type": "code",
   "execution_count": 255,
   "id": "c6a0b422",
   "metadata": {},
   "outputs": [],
   "source": [
    "# Create a month/year column at the DataFrame\n",
    "df_sales['Month_Year'] = df_sales['Order_Date'].dt.strftime('%b-%Y')"
   ]
  },
  {
   "cell_type": "code",
   "execution_count": 256,
   "id": "28d530d3",
   "metadata": {},
   "outputs": [],
   "source": [
    "# Create a column containing the revenue amount\n",
    "df_sales['Revenue_Amount'] =  df_sales['Unit_Price'] * df_sales['Quantity']"
   ]
  },
  {
   "cell_type": "code",
   "execution_count": 257,
   "id": "d26241f0",
   "metadata": {},
   "outputs": [],
   "source": [
    "# Group the sales data by month-year and sums up the total revenue amount\n",
    "total_revenu_by_month =  df_sales.groupby('Month_Year')['Revenue_Amount'].sum().sort_values(ascending = False)"
   ]
  },
  {
   "cell_type": "code",
   "execution_count": 258,
   "id": "c30ad456",
   "metadata": {},
   "outputs": [
    {
     "data": {
      "text/html": [
       "<div>\n",
       "<style scoped>\n",
       "    .dataframe tbody tr th:only-of-type {\n",
       "        vertical-align: middle;\n",
       "    }\n",
       "\n",
       "    .dataframe tbody tr th {\n",
       "        vertical-align: top;\n",
       "    }\n",
       "\n",
       "    .dataframe thead th {\n",
       "        text-align: right;\n",
       "    }\n",
       "</style>\n",
       "<table border=\"1\" class=\"dataframe\">\n",
       "  <thead>\n",
       "    <tr style=\"text-align: right;\">\n",
       "      <th></th>\n",
       "      <th>Revenue_Amount</th>\n",
       "    </tr>\n",
       "    <tr>\n",
       "      <th>Month_Year</th>\n",
       "      <th></th>\n",
       "    </tr>\n",
       "  </thead>\n",
       "  <tbody>\n",
       "    <tr>\n",
       "      <th>Jan-2026</th>\n",
       "      <td>R$ 1,564,949.57</td>\n",
       "    </tr>\n",
       "    <tr>\n",
       "      <th>Mar-2026</th>\n",
       "      <td>R$ 1,288,666.05</td>\n",
       "    </tr>\n",
       "    <tr>\n",
       "      <th>Apr-2026</th>\n",
       "      <td>R$ 1,130,725.69</td>\n",
       "    </tr>\n",
       "    <tr>\n",
       "      <th>Feb-2026</th>\n",
       "      <td>R$ 1,118,128.61</td>\n",
       "    </tr>\n",
       "  </tbody>\n",
       "</table>\n",
       "</div>"
      ],
      "text/plain": [
       "             Revenue_Amount\n",
       "Month_Year                 \n",
       "Jan-2026    R$ 1,564,949.57\n",
       "Mar-2026    R$ 1,288,666.05\n",
       "Apr-2026    R$ 1,130,725.69\n",
       "Feb-2026    R$ 1,118,128.61"
      ]
     },
     "execution_count": 258,
     "metadata": {},
     "output_type": "execute_result"
    }
   ],
   "source": [
    "# Converts the result into a DataFrame for easier visualization and analysis\n",
    "df_display = pd.DataFrame(total_revenu_by_month)\n",
    "\n",
    "df_display['Revenue_Amount'] = df_display['Revenue_Amount'].apply(format_brl)\n",
    "\n",
    "df_display"
   ]
  },
  {
   "cell_type": "markdown",
   "id": "f7a33225",
   "metadata": {},
   "source": [
    "#### What is the total sales by state?"
   ]
  },
  {
   "cell_type": "code",
   "execution_count": 259,
   "id": "0d8bb6a9",
   "metadata": {},
   "outputs": [],
   "source": [
    "# Group the sales data by state and sums up the total revenue amount\n",
    "total_revenu_by_state = df_sales.groupby('State')['Revenue_Amount'].sum().sort_values(ascending = False)"
   ]
  },
  {
   "cell_type": "code",
   "execution_count": 260,
   "id": "9b7fd8a9",
   "metadata": {},
   "outputs": [
    {
     "data": {
      "text/html": [
       "<div>\n",
       "<style scoped>\n",
       "    .dataframe tbody tr th:only-of-type {\n",
       "        vertical-align: middle;\n",
       "    }\n",
       "\n",
       "    .dataframe tbody tr th {\n",
       "        vertical-align: top;\n",
       "    }\n",
       "\n",
       "    .dataframe thead th {\n",
       "        text-align: right;\n",
       "    }\n",
       "</style>\n",
       "<table border=\"1\" class=\"dataframe\">\n",
       "  <thead>\n",
       "    <tr style=\"text-align: right;\">\n",
       "      <th></th>\n",
       "      <th>Revenue_Amount</th>\n",
       "    </tr>\n",
       "    <tr>\n",
       "      <th>State</th>\n",
       "      <th></th>\n",
       "    </tr>\n",
       "  </thead>\n",
       "  <tbody>\n",
       "    <tr>\n",
       "      <th>BA</th>\n",
       "      <td>R$ 928,138.75</td>\n",
       "    </tr>\n",
       "    <tr>\n",
       "      <th>CE</th>\n",
       "      <td>R$ 801,371.35</td>\n",
       "    </tr>\n",
       "    <tr>\n",
       "      <th>PR</th>\n",
       "      <td>R$ 786,823.94</td>\n",
       "    </tr>\n",
       "    <tr>\n",
       "      <th>RS</th>\n",
       "      <td>R$ 739,005.03</td>\n",
       "    </tr>\n",
       "    <tr>\n",
       "      <th>MG</th>\n",
       "      <td>R$ 720,896.20</td>\n",
       "    </tr>\n",
       "    <tr>\n",
       "      <th>SP</th>\n",
       "      <td>R$ 622,172.59</td>\n",
       "    </tr>\n",
       "    <tr>\n",
       "      <th>RJ</th>\n",
       "      <td>R$ 504,062.06</td>\n",
       "    </tr>\n",
       "  </tbody>\n",
       "</table>\n",
       "</div>"
      ],
      "text/plain": [
       "      Revenue_Amount\n",
       "State               \n",
       "BA     R$ 928,138.75\n",
       "CE     R$ 801,371.35\n",
       "PR     R$ 786,823.94\n",
       "RS     R$ 739,005.03\n",
       "MG     R$ 720,896.20\n",
       "SP     R$ 622,172.59\n",
       "RJ     R$ 504,062.06"
      ]
     },
     "execution_count": 260,
     "metadata": {},
     "output_type": "execute_result"
    }
   ],
   "source": [
    "# Converts the result into a DataFrame for easier visualization and analysis\n",
    "df_display = pd.DataFrame(total_revenu_by_state)\n",
    "\n",
    "df_display['Revenue_Amount'] = df_display['Revenue_Amount'].apply(format_brl)\n",
    "\n",
    "df_display"
   ]
  },
  {
   "cell_type": "markdown",
   "id": "ae4f5d0c",
   "metadata": {},
   "source": [
    "#### What is the revenue per category?"
   ]
  },
  {
   "cell_type": "code",
   "execution_count": 261,
   "id": "a0f309c4",
   "metadata": {},
   "outputs": [],
   "source": [
    "total_revenu_by_category = df_sales.groupby('Category')['Revenue_Amount'].sum().sort_values(ascending = False)"
   ]
  },
  {
   "cell_type": "code",
   "execution_count": 262,
   "id": "d0b07821",
   "metadata": {},
   "outputs": [
    {
     "data": {
      "text/html": [
       "<div>\n",
       "<style scoped>\n",
       "    .dataframe tbody tr th:only-of-type {\n",
       "        vertical-align: middle;\n",
       "    }\n",
       "\n",
       "    .dataframe tbody tr th {\n",
       "        vertical-align: top;\n",
       "    }\n",
       "\n",
       "    .dataframe thead th {\n",
       "        text-align: right;\n",
       "    }\n",
       "</style>\n",
       "<table border=\"1\" class=\"dataframe\">\n",
       "  <thead>\n",
       "    <tr style=\"text-align: right;\">\n",
       "      <th></th>\n",
       "      <th>Revenue_Amount</th>\n",
       "    </tr>\n",
       "    <tr>\n",
       "      <th>Category</th>\n",
       "      <th></th>\n",
       "    </tr>\n",
       "  </thead>\n",
       "  <tbody>\n",
       "    <tr>\n",
       "      <th>Electronics</th>\n",
       "      <td>R$ 2,807,300.00</td>\n",
       "    </tr>\n",
       "    <tr>\n",
       "      <th>Hardware</th>\n",
       "      <td>R$ 1,437,000.00</td>\n",
       "    </tr>\n",
       "    <tr>\n",
       "      <th>Accessories</th>\n",
       "      <td>R$ 494,569.92</td>\n",
       "    </tr>\n",
       "    <tr>\n",
       "      <th>Furniture</th>\n",
       "      <td>R$ 363,600.00</td>\n",
       "    </tr>\n",
       "  </tbody>\n",
       "</table>\n",
       "</div>"
      ],
      "text/plain": [
       "              Revenue_Amount\n",
       "Category                    \n",
       "Electronics  R$ 2,807,300.00\n",
       "Hardware     R$ 1,437,000.00\n",
       "Accessories    R$ 494,569.92\n",
       "Furniture      R$ 363,600.00"
      ]
     },
     "execution_count": 262,
     "metadata": {},
     "output_type": "execute_result"
    }
   ],
   "source": [
    "df_display = pd.DataFrame(total_revenu_by_category)\n",
    "\n",
    "df_display['Revenue_Amount'] = df_display['Revenue_Amount'].apply(format_brl)\n",
    "\n",
    "df_display"
   ]
  },
  {
   "cell_type": "markdown",
   "id": "9e98facd",
   "metadata": {},
   "source": [
    "### Visualizations for Business Insights"
   ]
  },
  {
   "cell_type": "markdown",
   "id": "82ac9ba6",
   "metadata": {},
   "source": [
    "Top 10 best selling products"
   ]
  },
  {
   "cell_type": "code",
   "execution_count": 263,
   "id": "8959b609",
   "metadata": {},
   "outputs": [
    {
     "data": {
      "image/png": "[encoded data removed]",
      "text/plain": [
       "<Figure size 1200x600 with 1 Axes>"
      ]
     },
     "metadata": {},
     "output_type": "display_data"
    }
   ],
   "source": [
    "fig, ax = create_chart(top_10_products_by_quantity, 'Top 10 Best-Selling Products', 'Quantity Sold', 'Product', 'barh')"
   ]
  },
  {
   "cell_type": "markdown",
   "id": "b21f7bfa",
   "metadata": {},
   "source": [
    "Total revenue by month"
   ]
  },
  {
   "cell_type": "code",
   "execution_count": 264,
   "id": "47f6e387",
   "metadata": {},
   "outputs": [],
   "source": [
    "total_revenu_by_month = total_revenu_by_month.iloc[pd.to_datetime(total_revenu_by_month.index, format='%b-%Y').argsort()]"
   ]
  },
  {
   "cell_type": "code",
   "execution_count": 265,
   "id": "f0adbaba",
   "metadata": {},
   "outputs": [
    {
     "data": {
      "image/png": "[encoded data removed]",
      "text/plain": [
       "<Figure size 1200x600 with 1 Axes>"
      ]
     },
     "metadata": {},
     "output_type": "display_data"
    }
   ],
   "source": [
    "fig, sx = create_chart(total_revenu_by_month, 'Total Revenue by Month', 'Revenue', 'Month', 'line')"
   ]
  },
  {
   "cell_type": "code",
   "execution_count": null,
   "id": "695c5152",
   "metadata": {},
   "outputs": [],
   "source": []
  }
 ],
 "metadata": {
  "kernelspec": {
   "display_name": ".venv (3.13.7)",
   "language": "python",
   "name": "python3"
  },
  "language_info": {
   "codemirror_mode": {
    "name": "ipython",
    "version": 3
   },
   "file_extension": ".py",
   "mimetype": "text/x-python",
   "name": "python",
   "nbconvert_exporter": "python",
   "pygments_lexer": "ipython3",
   "version": "3.13.7"
  }
 },
 "nbformat": 4,
 "nbformat_minor": 5
}
