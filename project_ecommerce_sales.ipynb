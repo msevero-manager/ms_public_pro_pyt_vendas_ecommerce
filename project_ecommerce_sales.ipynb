{
 "cells": [
  {
   "cell_type": "markdown",
   "id": "9f4a6fa5",
   "metadata": {},
   "source": [
    "### **Data Cleaning and Exploratory Analysis**"
   ]
  },
  {
   "cell_type": "markdown",
   "id": "50462a85",
   "metadata": {},
   "source": [
    "#### **Import libraries**"
   ]
  },
  {
   "cell_type": "code",
   "execution_count": 2,
   "id": "b9f37ba7",
   "metadata": {},
   "outputs": [],
   "source": [
    "# Import the custom function 'gera_dados' from the local module 'gerar_dados_aleatorios'\n",
    "from modules.generae_random_sales_data import GenerateData as gd\n",
    "\n",
    "# Import date and time utilities for handling timestamps and time intervals\n",
    "from datetime import datetime, timedelta\n",
    "\n",
    "# Import data visualization libraries\n",
    "import matplotlib.pyplot as plt\n",
    "import seaborn as sns\n",
    "\n",
    "# Import data manipulation and numerical computation libraries\n",
    "import pandas as pd\n",
    "import numpy as np\n",
    "\n",
    "# Import the 'random' module for generating random numbers\n",
    "import random"
   ]
  },
  {
   "cell_type": "markdown",
   "id": "2e1f22dc",
   "metadata": {},
   "source": [
    "#### **Create functions**"
   ]
  },
  {
   "cell_type": "code",
   "execution_count": 3,
   "id": "399e8530",
   "metadata": {},
   "outputs": [],
   "source": [
    "# Function to format numeric values into millions with a currency symbol (Brazilian Real)\n",
    "# Example: 3500000 -> 'R$ 3.50 Mi'\n",
    "def formatador_milhoes(y, pos):\n",
    "    return f'R$ {y/1_000_000:.2f} Mi'"
   ]
  },
  {
   "cell_type": "code",
   "execution_count": 3,
   "id": "68f505f2",
   "metadata": {},
   "outputs": [],
   "source": [
    "# Function to format percentage labels for charts (e.g., pie charts)\n",
    "# It shows both the percentage and the corresponding absolute value in millions\n",
    "# Example: 25%, R$ 2.50 Mi\n",
    "def formatar_valores(pct, allvals):\n",
    "    absolute = pct/100. * sum(allvals)\n",
    "    return f'{pct:.1f}%\\nR$ {absolute/1_000_000:.2f} Mi'"
   ]
  },
  {
   "cell_type": "markdown",
   "id": "2bc432f8",
   "metadata": {},
   "source": [
    "#### **Create a random dataset**"
   ]
  },
  {
   "cell_type": "code",
   "execution_count": 4,
   "id": "e442d778",
   "metadata": {},
   "outputs": [
    {
     "name": "stdout",
     "output_type": "stream",
     "text": [
      "\n",
      "Starting the generation of 600 records...\n",
      "Data generation completed successfully.\n",
      "\n"
     ]
    }
   ],
   "source": [
    "# Create a random dataFrame\n",
    "df_sales = gd.generate_fake_data()"
   ]
  },
  {
   "cell_type": "code",
   "execution_count": 5,
   "id": "c206f42f",
   "metadata": {},
   "outputs": [
    {
     "data": {
      "text/html": [
       "<div>\n",
       "<style scoped>\n",
       "    .dataframe tbody tr th:only-of-type {\n",
       "        vertical-align: middle;\n",
       "    }\n",
       "\n",
       "    .dataframe tbody tr th {\n",
       "        vertical-align: top;\n",
       "    }\n",
       "\n",
       "    .dataframe thead th {\n",
       "        text-align: right;\n",
       "    }\n",
       "</style>\n",
       "<table border=\"1\" class=\"dataframe\">\n",
       "  <thead>\n",
       "    <tr style=\"text-align: right;\">\n",
       "      <th></th>\n",
       "      <th>Order_ID</th>\n",
       "      <th>Order_Date</th>\n",
       "      <th>Product_Name</th>\n",
       "      <th>Category</th>\n",
       "      <th>Unit_Price</th>\n",
       "      <th>Quantity</th>\n",
       "      <th>Customer_ID</th>\n",
       "      <th>City</th>\n",
       "      <th>State</th>\n",
       "    </tr>\n",
       "  </thead>\n",
       "  <tbody>\n",
       "    <tr>\n",
       "      <th>0</th>\n",
       "      <td>1000</td>\n",
       "      <td>2026-01-01 15:00:00</td>\n",
       "      <td>Vertical Mouse</td>\n",
       "      <td>Accessories</td>\n",
       "      <td>241.08</td>\n",
       "      <td>5</td>\n",
       "      <td>128</td>\n",
       "      <td>São Paulo</td>\n",
       "      <td>SP</td>\n",
       "    </tr>\n",
       "    <tr>\n",
       "      <th>1</th>\n",
       "      <td>1001</td>\n",
       "      <td>2026-01-01 02:00:00</td>\n",
       "      <td>Graphics Card</td>\n",
       "      <td>Hardware</td>\n",
       "      <td>4500.00</td>\n",
       "      <td>1</td>\n",
       "      <td>100</td>\n",
       "      <td>Belo Horizonte</td>\n",
       "      <td>MG</td>\n",
       "    </tr>\n",
       "    <tr>\n",
       "      <th>2</th>\n",
       "      <td>1002</td>\n",
       "      <td>2026-01-01 09:00:00</td>\n",
       "      <td>SSD 1TB</td>\n",
       "      <td>Hardware</td>\n",
       "      <td>600.00</td>\n",
       "      <td>2</td>\n",
       "      <td>122</td>\n",
       "      <td>Salvador</td>\n",
       "      <td>BA</td>\n",
       "    </tr>\n",
       "    <tr>\n",
       "      <th>3</th>\n",
       "      <td>1003</td>\n",
       "      <td>2026-01-01 22:00:00</td>\n",
       "      <td>Graphics Card</td>\n",
       "      <td>Hardware</td>\n",
       "      <td>4500.00</td>\n",
       "      <td>7</td>\n",
       "      <td>106</td>\n",
       "      <td>Fortaleza</td>\n",
       "      <td>CE</td>\n",
       "    </tr>\n",
       "    <tr>\n",
       "      <th>4</th>\n",
       "      <td>1004</td>\n",
       "      <td>2026-01-01 15:00:00</td>\n",
       "      <td>Gaming Laptop</td>\n",
       "      <td>Electronics</td>\n",
       "      <td>7500.00</td>\n",
       "      <td>5</td>\n",
       "      <td>109</td>\n",
       "      <td>Fortaleza</td>\n",
       "      <td>CE</td>\n",
       "    </tr>\n",
       "  </tbody>\n",
       "</table>\n",
       "</div>"
      ],
      "text/plain": [
       "   Order_ID          Order_Date    Product_Name     Category  Unit_Price  \\\n",
       "0      1000 2026-01-01 15:00:00  Vertical Mouse  Accessories      241.08   \n",
       "1      1001 2026-01-01 02:00:00   Graphics Card     Hardware     4500.00   \n",
       "2      1002 2026-01-01 09:00:00         SSD 1TB     Hardware      600.00   \n",
       "3      1003 2026-01-01 22:00:00   Graphics Card     Hardware     4500.00   \n",
       "4      1004 2026-01-01 15:00:00   Gaming Laptop  Electronics     7500.00   \n",
       "\n",
       "   Quantity  Customer_ID            City State  \n",
       "0         5          128       São Paulo    SP  \n",
       "1         1          100  Belo Horizonte    MG  \n",
       "2         2          122        Salvador    BA  \n",
       "3         7          106       Fortaleza    CE  \n",
       "4         5          109       Fortaleza    CE  "
      ]
     },
     "execution_count": 5,
     "metadata": {},
     "output_type": "execute_result"
    }
   ],
   "source": [
    "# Check the first lines of the DataFrame\n",
    "df_sales.head()"
   ]
  },
  {
   "cell_type": "code",
   "execution_count": null,
   "id": "7df99d3c",
   "metadata": {},
   "outputs": [],
   "source": []
  }
 ],
 "metadata": {
  "kernelspec": {
   "display_name": ".venv (3.13.7)",
   "language": "python",
   "name": "python3"
  },
  "language_info": {
   "codemirror_mode": {
    "name": "ipython",
    "version": 3
   },
   "file_extension": ".py",
   "mimetype": "text/x-python",
   "name": "python",
   "nbconvert_exporter": "python",
   "pygments_lexer": "ipython3",
   "version": "3.13.7"
  }
 },
 "nbformat": 4,
 "nbformat_minor": 5
}
