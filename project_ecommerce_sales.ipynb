{
 "cells": [
  {
   "cell_type": "markdown",
   "id": "9f4a6fa5",
   "metadata": {},
   "source": [
    "### **Data Cleaning and Exploratory Analysis**"
   ]
  },
  {
   "cell_type": "markdown",
   "id": "50462a85",
   "metadata": {},
   "source": [
    "#### **Import libraries**"
   ]
  },
  {
   "cell_type": "code",
   "execution_count": 51,
   "id": "b9f37ba7",
   "metadata": {},
   "outputs": [],
   "source": [
    "# Import the custom function 'gera_dados' from the local module 'gerar_dados_aleatorios'\n",
    "from modules.generae_random_sales_data import GenerateData as gd\n",
    "\n",
    "# Import date and time utilities for handling timestamps and time intervals\n",
    "from datetime import datetime, timedelta\n",
    "\n",
    "# Import data visualization libraries\n",
    "import matplotlib.pyplot as plt\n",
    "import seaborn as sns\n",
    "\n",
    "# Import data manipulation and numerical computation libraries\n",
    "import pandas as pd\n",
    "import numpy as np\n",
    "\n",
    "# Import the 'random' module for generating random numbers\n",
    "import random"
   ]
  },
  {
   "cell_type": "markdown",
   "id": "2e1f22dc",
   "metadata": {},
   "source": [
    "#### **Create functions**"
   ]
  },
  {
   "cell_type": "code",
   "execution_count": 52,
   "id": "399e8530",
   "metadata": {},
   "outputs": [],
   "source": [
    "# Function to format numeric values into millions with the Brazilian Real currency symbol\n",
    "# Example: 3_500_000 -> 'R$ 3.50 Mi'\n",
    "def format_millions(y, pos):\n",
    "    return f'R$ {y / 1_000_000:.2f} Mi'"
   ]
  },
  {
   "cell_type": "code",
   "execution_count": 53,
   "id": "68f505f2",
   "metadata": {},
   "outputs": [],
   "source": [
    "# Function to format percentage labels for charts (e.g., pie charts)\n",
    "# Displays both the percentage and the corresponding absolute value in millions\n",
    "# Example: 25% -> '25%\\nR$ 2.50 Mi'\n",
    "def format_percentage_labels(pct, all_values):\n",
    "    absolute = pct / 100.0 * sum(all_values)\n",
    "    return f'{pct:.1f}%\\nR$ {absolute / 1_000_000:.2f} Mi'"
   ]
  },
  {
   "cell_type": "code",
   "execution_count": 54,
   "id": "ed51793d",
   "metadata": {},
   "outputs": [],
   "source": [
    "# Function to format a numeric value as Brazilian Real currency\n",
    "# Example: 1234567.89 -> 'R$ 1,234,567.89'\n",
    "def format_brl(value):\n",
    "    return f'R$ {value:,.2f}'"
   ]
  },
  {
   "cell_type": "markdown",
   "id": "2bc432f8",
   "metadata": {},
   "source": [
    "#### **Create a random dataset**"
   ]
  },
  {
   "cell_type": "code",
   "execution_count": 55,
   "id": "e442d778",
   "metadata": {},
   "outputs": [
    {
     "name": "stdout",
     "output_type": "stream",
     "text": [
      "\n",
      "Starting the generation of 600 records...\n",
      "Data generation completed successfully.\n",
      "\n"
     ]
    }
   ],
   "source": [
    "# Create a random dataFrame\n",
    "df_sales = gd.generate_fake_data()"
   ]
  },
  {
   "cell_type": "markdown",
   "id": "1c7f8ab9",
   "metadata": {},
   "source": [
    "#### **Exploratory Data Analysis**"
   ]
  },
  {
   "cell_type": "code",
   "execution_count": 56,
   "id": "7df99d3c",
   "metadata": {},
   "outputs": [
    {
     "data": {
      "text/html": [
       "<div>\n",
       "<style scoped>\n",
       "    .dataframe tbody tr th:only-of-type {\n",
       "        vertical-align: middle;\n",
       "    }\n",
       "\n",
       "    .dataframe tbody tr th {\n",
       "        vertical-align: top;\n",
       "    }\n",
       "\n",
       "    .dataframe thead th {\n",
       "        text-align: right;\n",
       "    }\n",
       "</style>\n",
       "<table border=\"1\" class=\"dataframe\">\n",
       "  <thead>\n",
       "    <tr style=\"text-align: right;\">\n",
       "      <th></th>\n",
       "      <th>Order_ID</th>\n",
       "      <th>Order_Date</th>\n",
       "      <th>Product_Name</th>\n",
       "      <th>Category</th>\n",
       "      <th>Unit_Price</th>\n",
       "      <th>Quantity</th>\n",
       "      <th>Customer_ID</th>\n",
       "      <th>City</th>\n",
       "      <th>State</th>\n",
       "    </tr>\n",
       "  </thead>\n",
       "  <tbody>\n",
       "    <tr>\n",
       "      <th>0</th>\n",
       "      <td>1000</td>\n",
       "      <td>2026-01-01 06:00:00</td>\n",
       "      <td>SSD 1TB</td>\n",
       "      <td>Hardware</td>\n",
       "      <td>600.0</td>\n",
       "      <td>5</td>\n",
       "      <td>149</td>\n",
       "      <td>Salvador</td>\n",
       "      <td>BA</td>\n",
       "    </tr>\n",
       "    <tr>\n",
       "      <th>1</th>\n",
       "      <td>1001</td>\n",
       "      <td>2026-01-01 19:00:00</td>\n",
       "      <td>Gaming Chair</td>\n",
       "      <td>Furniture</td>\n",
       "      <td>1200.0</td>\n",
       "      <td>2</td>\n",
       "      <td>112</td>\n",
       "      <td>Fortaleza</td>\n",
       "      <td>CE</td>\n",
       "    </tr>\n",
       "    <tr>\n",
       "      <th>2</th>\n",
       "      <td>1002</td>\n",
       "      <td>2026-01-01 08:00:00</td>\n",
       "      <td>Headset 7.1</td>\n",
       "      <td>Accessories</td>\n",
       "      <td>800.0</td>\n",
       "      <td>4</td>\n",
       "      <td>139</td>\n",
       "      <td>Belo Horizonte</td>\n",
       "      <td>MG</td>\n",
       "    </tr>\n",
       "    <tr>\n",
       "      <th>3</th>\n",
       "      <td>1003</td>\n",
       "      <td>2026-01-01 17:00:00</td>\n",
       "      <td>SSD 1TB</td>\n",
       "      <td>Hardware</td>\n",
       "      <td>600.0</td>\n",
       "      <td>5</td>\n",
       "      <td>146</td>\n",
       "      <td>Rio de Janeiro</td>\n",
       "      <td>RJ</td>\n",
       "    </tr>\n",
       "    <tr>\n",
       "      <th>4</th>\n",
       "      <td>1004</td>\n",
       "      <td>2026-01-01 14:00:00</td>\n",
       "      <td>Gaming Chair</td>\n",
       "      <td>Furniture</td>\n",
       "      <td>1200.0</td>\n",
       "      <td>1</td>\n",
       "      <td>120</td>\n",
       "      <td>Fortaleza</td>\n",
       "      <td>CE</td>\n",
       "    </tr>\n",
       "  </tbody>\n",
       "</table>\n",
       "</div>"
      ],
      "text/plain": [
       "   Order_ID          Order_Date  Product_Name     Category  Unit_Price  \\\n",
       "0      1000 2026-01-01 06:00:00       SSD 1TB     Hardware       600.0   \n",
       "1      1001 2026-01-01 19:00:00  Gaming Chair    Furniture      1200.0   \n",
       "2      1002 2026-01-01 08:00:00   Headset 7.1  Accessories       800.0   \n",
       "3      1003 2026-01-01 17:00:00       SSD 1TB     Hardware       600.0   \n",
       "4      1004 2026-01-01 14:00:00  Gaming Chair    Furniture      1200.0   \n",
       "\n",
       "   Quantity  Customer_ID            City State  \n",
       "0         5          149        Salvador    BA  \n",
       "1         2          112       Fortaleza    CE  \n",
       "2         4          139  Belo Horizonte    MG  \n",
       "3         5          146  Rio de Janeiro    RJ  \n",
       "4         1          120       Fortaleza    CE  "
      ]
     },
     "execution_count": 56,
     "metadata": {},
     "output_type": "execute_result"
    }
   ],
   "source": [
    "# Check the first 5 records\n",
    "df_sales.head()"
   ]
  },
  {
   "cell_type": "code",
   "execution_count": 57,
   "id": "5a56323b",
   "metadata": {},
   "outputs": [
    {
     "data": {
      "text/plain": [
       "(600, 9)"
      ]
     },
     "execution_count": 57,
     "metadata": {},
     "output_type": "execute_result"
    }
   ],
   "source": [
    "# Show how much lines and coluns the DataFrame has\n",
    "df_sales.shape"
   ]
  },
  {
   "cell_type": "code",
   "execution_count": 58,
   "id": "42ddeb82",
   "metadata": {},
   "outputs": [
    {
     "name": "stdout",
     "output_type": "stream",
     "text": [
      "<class 'pandas.core.frame.DataFrame'>\n",
      "RangeIndex: 600 entries, 0 to 599\n",
      "Data columns (total 9 columns):\n",
      " #   Column        Non-Null Count  Dtype         \n",
      "---  ------        --------------  -----         \n",
      " 0   Order_ID      600 non-null    int64         \n",
      " 1   Order_Date    600 non-null    datetime64[ns]\n",
      " 2   Product_Name  600 non-null    object        \n",
      " 3   Category      600 non-null    object        \n",
      " 4   Unit_Price    600 non-null    float64       \n",
      " 5   Quantity      600 non-null    int64         \n",
      " 6   Customer_ID   600 non-null    int64         \n",
      " 7   City          600 non-null    object        \n",
      " 8   State         600 non-null    object        \n",
      "dtypes: datetime64[ns](1), float64(1), int64(3), object(4)\n",
      "memory usage: 42.3+ KB\n"
     ]
    }
   ],
   "source": [
    "# Show important information (null, data type)\n",
    "df_sales.info()"
   ]
  },
  {
   "cell_type": "code",
   "execution_count": 59,
   "id": "32b6b9a3",
   "metadata": {},
   "outputs": [
    {
     "data": {
      "text/html": [
       "<div>\n",
       "<style scoped>\n",
       "    .dataframe tbody tr th:only-of-type {\n",
       "        vertical-align: middle;\n",
       "    }\n",
       "\n",
       "    .dataframe tbody tr th {\n",
       "        vertical-align: top;\n",
       "    }\n",
       "\n",
       "    .dataframe thead th {\n",
       "        text-align: right;\n",
       "    }\n",
       "</style>\n",
       "<table border=\"1\" class=\"dataframe\">\n",
       "  <thead>\n",
       "    <tr style=\"text-align: right;\">\n",
       "      <th></th>\n",
       "      <th>Unit_Price</th>\n",
       "      <th>Quantity</th>\n",
       "    </tr>\n",
       "  </thead>\n",
       "  <tbody>\n",
       "    <tr>\n",
       "      <th>count</th>\n",
       "      <td>600.000000</td>\n",
       "      <td>600.000000</td>\n",
       "    </tr>\n",
       "    <tr>\n",
       "      <th>mean</th>\n",
       "      <td>2267.169517</td>\n",
       "      <td>3.955000</td>\n",
       "    </tr>\n",
       "    <tr>\n",
       "      <th>std</th>\n",
       "      <td>2413.477577</td>\n",
       "      <td>1.999075</td>\n",
       "    </tr>\n",
       "    <tr>\n",
       "      <th>min</th>\n",
       "      <td>225.340000</td>\n",
       "      <td>1.000000</td>\n",
       "    </tr>\n",
       "    <tr>\n",
       "      <th>25%</th>\n",
       "      <td>600.000000</td>\n",
       "      <td>2.000000</td>\n",
       "    </tr>\n",
       "    <tr>\n",
       "      <th>50%</th>\n",
       "      <td>800.000000</td>\n",
       "      <td>4.000000</td>\n",
       "    </tr>\n",
       "    <tr>\n",
       "      <th>75%</th>\n",
       "      <td>2800.000000</td>\n",
       "      <td>6.000000</td>\n",
       "    </tr>\n",
       "    <tr>\n",
       "      <th>max</th>\n",
       "      <td>7500.000000</td>\n",
       "      <td>7.000000</td>\n",
       "    </tr>\n",
       "  </tbody>\n",
       "</table>\n",
       "</div>"
      ],
      "text/plain": [
       "        Unit_Price    Quantity\n",
       "count   600.000000  600.000000\n",
       "mean   2267.169517    3.955000\n",
       "std    2413.477577    1.999075\n",
       "min     225.340000    1.000000\n",
       "25%     600.000000    2.000000\n",
       "50%     800.000000    4.000000\n",
       "75%    2800.000000    6.000000\n",
       "max    7500.000000    7.000000"
      ]
     },
     "execution_count": 59,
     "metadata": {},
     "output_type": "execute_result"
    }
   ],
   "source": [
    "# Show statistics summary (mantain just important columns)\n",
    "df_sales[['Unit_Price', 'Quantity']].describe()"
   ]
  },
  {
   "cell_type": "code",
   "execution_count": 60,
   "id": "4c126fac",
   "metadata": {},
   "outputs": [
    {
     "data": {
      "text/plain": [
       "np.int64(0)"
      ]
     },
     "execution_count": 60,
     "metadata": {},
     "output_type": "execute_result"
    }
   ],
   "source": [
    "# Show duplicate values\n",
    "df_sales.duplicated().sum()"
   ]
  },
  {
   "cell_type": "code",
   "execution_count": 61,
   "id": "4498f351",
   "metadata": {},
   "outputs": [],
   "source": [
    "# Convert date columns to datetime type\n",
    "df_sales['Order_Date'] = pd.to_datetime(df_sales['Order_Date'])"
   ]
  },
  {
   "cell_type": "markdown",
   "id": "a67cf123",
   "metadata": {},
   "source": [
    "### **Addressing business-related questions**"
   ]
  },
  {
   "cell_type": "markdown",
   "id": "020bbfac",
   "metadata": {},
   "source": [
    "#### What are the top 10 best-selling products?"
   ]
  },
  {
   "cell_type": "code",
   "execution_count": 62,
   "id": "cc2bb2c9",
   "metadata": {},
   "outputs": [],
   "source": [
    "# Groups the sales data by product name and sums up the total quantity sold for each product\n",
    "top_10_products_by_quantity = df_sales.groupby(\n",
    "    'Product_Name'\n",
    ")['Quantity'].sum().sort_values(ascending = False)"
   ]
  },
  {
   "cell_type": "code",
   "execution_count": 63,
   "id": "5eeaf273",
   "metadata": {},
   "outputs": [
    {
     "data": {
      "text/html": [
       "<div>\n",
       "<style scoped>\n",
       "    .dataframe tbody tr th:only-of-type {\n",
       "        vertical-align: middle;\n",
       "    }\n",
       "\n",
       "    .dataframe tbody tr th {\n",
       "        vertical-align: top;\n",
       "    }\n",
       "\n",
       "    .dataframe thead th {\n",
       "        text-align: right;\n",
       "    }\n",
       "</style>\n",
       "<table border=\"1\" class=\"dataframe\">\n",
       "  <thead>\n",
       "    <tr style=\"text-align: right;\">\n",
       "      <th></th>\n",
       "      <th>Quantity</th>\n",
       "    </tr>\n",
       "    <tr>\n",
       "      <th>Product_Name</th>\n",
       "      <th></th>\n",
       "    </tr>\n",
       "  </thead>\n",
       "  <tbody>\n",
       "    <tr>\n",
       "      <th>SSD 1TB</th>\n",
       "      <td>350</td>\n",
       "    </tr>\n",
       "    <tr>\n",
       "      <th>Graphics Card</th>\n",
       "      <td>314</td>\n",
       "    </tr>\n",
       "    <tr>\n",
       "      <th>Headset 7.1</th>\n",
       "      <td>307</td>\n",
       "    </tr>\n",
       "    <tr>\n",
       "      <th>Gaming Laptop</th>\n",
       "      <td>294</td>\n",
       "    </tr>\n",
       "    <tr>\n",
       "      <th>Gaming Chair</th>\n",
       "      <td>285</td>\n",
       "    </tr>\n",
       "    <tr>\n",
       "      <th>Ultrawide Monitor</th>\n",
       "      <td>282</td>\n",
       "    </tr>\n",
       "    <tr>\n",
       "      <th>Vertical Mouse</th>\n",
       "      <td>273</td>\n",
       "    </tr>\n",
       "    <tr>\n",
       "      <th>Mechanical Keyboard</th>\n",
       "      <td>268</td>\n",
       "    </tr>\n",
       "  </tbody>\n",
       "</table>\n",
       "</div>"
      ],
      "text/plain": [
       "                     Quantity\n",
       "Product_Name                 \n",
       "SSD 1TB                   350\n",
       "Graphics Card             314\n",
       "Headset 7.1               307\n",
       "Gaming Laptop             294\n",
       "Gaming Chair              285\n",
       "Ultrawide Monitor         282\n",
       "Vertical Mouse            273\n",
       "Mechanical Keyboard       268"
      ]
     },
     "execution_count": 63,
     "metadata": {},
     "output_type": "execute_result"
    }
   ],
   "source": [
    "# Converts the result into a DataFrame for easier visualization and analysis\n",
    "pd.DataFrame(top_10_products_by_quantity)"
   ]
  },
  {
   "cell_type": "markdown",
   "id": "afe4c80b",
   "metadata": {},
   "source": [
    "#### What was the revenue for the month?"
   ]
  },
  {
   "cell_type": "code",
   "execution_count": 64,
   "id": "c6a0b422",
   "metadata": {},
   "outputs": [],
   "source": [
    "# Create a month/year column at the DataFrame\n",
    "df_sales['Month_Year'] = df_sales['Order_Date'].dt.strftime('%b-%Y')"
   ]
  },
  {
   "cell_type": "code",
   "execution_count": 65,
   "id": "28d530d3",
   "metadata": {},
   "outputs": [],
   "source": [
    "# Create a column containing the revenue amount\n",
    "df_sales['Revenue_Amount'] =  df_sales['Unit_Price'] * df_sales['Quantity']"
   ]
  },
  {
   "cell_type": "code",
   "execution_count": 66,
   "id": "d26241f0",
   "metadata": {},
   "outputs": [],
   "source": [
    "# Group the sales data by month-year and sums up the total revenue amount\n",
    "total_revenu_by_month =  df_sales.groupby('Month_Year')['Revenue_Amount'].sum().sort_values(ascending = False)"
   ]
  },
  {
   "cell_type": "code",
   "execution_count": 69,
   "id": "c30ad456",
   "metadata": {},
   "outputs": [
    {
     "data": {
      "text/html": [
       "<div>\n",
       "<style scoped>\n",
       "    .dataframe tbody tr th:only-of-type {\n",
       "        vertical-align: middle;\n",
       "    }\n",
       "\n",
       "    .dataframe tbody tr th {\n",
       "        vertical-align: top;\n",
       "    }\n",
       "\n",
       "    .dataframe thead th {\n",
       "        text-align: right;\n",
       "    }\n",
       "</style>\n",
       "<table border=\"1\" class=\"dataframe\">\n",
       "  <thead>\n",
       "    <tr style=\"text-align: right;\">\n",
       "      <th></th>\n",
       "      <th>Revenue_Amount</th>\n",
       "    </tr>\n",
       "    <tr>\n",
       "      <th>Month_Year</th>\n",
       "      <th></th>\n",
       "    </tr>\n",
       "  </thead>\n",
       "  <tbody>\n",
       "    <tr>\n",
       "      <th>Jan-2026</th>\n",
       "      <td>R$ 1,413,961.31</td>\n",
       "    </tr>\n",
       "    <tr>\n",
       "      <th>Apr-2026</th>\n",
       "      <td>R$ 1,411,067.94</td>\n",
       "    </tr>\n",
       "    <tr>\n",
       "      <th>Feb-2026</th>\n",
       "      <td>R$ 1,311,767.91</td>\n",
       "    </tr>\n",
       "    <tr>\n",
       "      <th>Mar-2026</th>\n",
       "      <td>R$ 1,273,678.57</td>\n",
       "    </tr>\n",
       "  </tbody>\n",
       "</table>\n",
       "</div>"
      ],
      "text/plain": [
       "             Revenue_Amount\n",
       "Month_Year                 \n",
       "Jan-2026    R$ 1,413,961.31\n",
       "Apr-2026    R$ 1,411,067.94\n",
       "Feb-2026    R$ 1,311,767.91\n",
       "Mar-2026    R$ 1,273,678.57"
      ]
     },
     "execution_count": 69,
     "metadata": {},
     "output_type": "execute_result"
    }
   ],
   "source": [
    "# Converts the result into a DataFrame for easier visualization and analysis\n",
    "df_display = pd.DataFrame(total_revenu_by_month)\n",
    "\n",
    "df_display['Revenue_Amount'] = df_display['Revenue_Amount'].apply(format_brl)\n",
    "\n",
    "df_display"
   ]
  },
  {
   "cell_type": "code",
   "execution_count": null,
   "id": "3885f4a6",
   "metadata": {},
   "outputs": [],
   "source": []
  }
 ],
 "metadata": {
  "kernelspec": {
   "display_name": ".venv (3.13.7)",
   "language": "python",
   "name": "python3"
  },
  "language_info": {
   "codemirror_mode": {
    "name": "ipython",
    "version": 3
   },
   "file_extension": ".py",
   "mimetype": "text/x-python",
   "name": "python",
   "nbconvert_exporter": "python",
   "pygments_lexer": "ipython3",
   "version": "3.13.7"
  }
 },
 "nbformat": 4,
 "nbformat_minor": 5
}
