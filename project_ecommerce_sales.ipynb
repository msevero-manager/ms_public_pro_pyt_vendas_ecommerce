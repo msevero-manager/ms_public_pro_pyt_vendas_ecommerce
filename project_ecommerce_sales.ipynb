{
 "cells": [
  {
   "cell_type": "markdown",
   "id": "9f4a6fa5",
   "metadata": {},
   "source": [
    "### **Data Cleaning and Exploratory Analysis**"
   ]
  },
  {
   "cell_type": "markdown",
   "id": "50462a85",
   "metadata": {},
   "source": [
    "#### **Import libraries**"
   ]
  },
  {
   "cell_type": "code",
   "execution_count": 188,
   "id": "b9f37ba7",
   "metadata": {},
   "outputs": [],
   "source": [
    "# Import the custom function 'gera_dados' from the local module 'gerar_dados_aleatorios'\n",
    "from modules.generae_random_sales_data import GenerateData as gd\n",
    "\n",
    "from matplotlib.ticker import FuncFormatter\n",
    "\n",
    "# Import date and time utilities for handling timestamps and time intervals\n",
    "from datetime import datetime, timedelta\n",
    "\n",
    "# Import data visualization libraries\n",
    "import matplotlib.pyplot as plt\n",
    "import seaborn as sns\n",
    "\n",
    "# Import data manipulation and numerical computation libraries\n",
    "import pandas as pd\n",
    "import numpy as np\n",
    "\n",
    "# Import the 'random' module for generating random numbers\n",
    "import random"
   ]
  },
  {
   "cell_type": "markdown",
   "id": "2e1f22dc",
   "metadata": {},
   "source": [
    "#### **Create functions**"
   ]
  },
  {
   "cell_type": "code",
   "execution_count": 189,
   "id": "0769c047",
   "metadata": {},
   "outputs": [],
   "source": [
    "# Generic chart function\n",
    "def create_chart(data, title, xlabel='', ylabel='', chart_type='bar', monetary=False):\n",
    "    \"\"\"\n",
    "    Creates a customizable chart (bar, barh, line, or pie) with formatted labels.\n",
    "    \n",
    "    Parameters:\n",
    "        data (pd.Series or pd.DataFrame): Data to plot\n",
    "        title (str): Chart title\n",
    "        xlabel (str): X-axis label\n",
    "        ylabel (str): Y-axis label\n",
    "        chart_type (str): Type of chart ('bar', 'barh', 'line', 'pie')\n",
    "        monetary (bool): Whether to format numbers as currency (True) or plain numbers (False)\n",
    "    \"\"\"\n",
    "\n",
    "    sns.set_style('whitegrid')\n",
    "    fig, ax = plt.subplots(figsize=(12, 6))\n",
    "    colors = sns.color_palette(\"coolwarm\", len(data))\n",
    "\n",
    "    # Choose the right formatter\n",
    "    formatter = FuncFormatter(format_millions if monetary else format_number)\n",
    "\n",
    "    # --- Bar Chart ---\n",
    "    if chart_type == 'bar':\n",
    "        data.plot(kind='bar', color=colors, ax=ax)\n",
    "        ax.yaxis.set_major_formatter(formatter)\n",
    "        plt.xticks(rotation=0)\n",
    "        ax.grid(False)\n",
    "        \n",
    "        # Add value labels\n",
    "        for i, v in enumerate(data):\n",
    "            label = f'R$ {v / 1_000_000:.2f} Mi' if monetary else f'{int(v):,}'.replace(',', '.')\n",
    "            ax.text(i, v + (v * 0.01), label, ha='center', va='bottom', fontsize=10, color='black')\n",
    "\n",
    "    # --- Horizontal Bar Chart ---\n",
    "    elif chart_type == 'barh':\n",
    "        data.sort_values(ascending=True).plot(kind='barh', color=colors, ax=ax)\n",
    "        ax.xaxis.set_major_formatter(formatter)\n",
    "        \n",
    "        for i, v in enumerate(data.sort_values(ascending=True)):\n",
    "            label = f'R$ {v / 1_000_000:.2f} Mi' if monetary else f'{int(v):,}'.replace(',', '.')\n",
    "            ax.text(v + (v * 0.01), i, label, va='center', fontsize=9, color='black')\n",
    "\n",
    "    # --- Line Chart ---\n",
    "    elif chart_type == 'line':\n",
    "        data.plot(kind='line', marker='o', color='green', ax=ax)\n",
    "        ax.yaxis.set_major_formatter(formatter)\n",
    "        ax.grid(True, which='both', linestyle='--', linewidth=0.5)\n",
    "\n",
    "        for i, v in enumerate(data):\n",
    "            label = f'R$ {v / 1_000_000:.2f} Mi' if monetary else f'{int(v):,}'.replace(',', '.')\n",
    "            ax.text(i, v + (max(data) * 0.02), label, ha='center', va='bottom', fontsize=9, color='black')\n",
    "\n",
    "    # --- Pie Chart ---\n",
    "    elif chart_type == 'pie':\n",
    "        colors = sns.color_palette(\"Set3\", len(data))\n",
    "        data.plot(\n",
    "            kind='pie',\n",
    "            colors=colors,\n",
    "            autopct=lambda pct: format_percentage_values(pct, data),\n",
    "            startangle=90,\n",
    "            wedgeprops={'edgecolor': 'white', 'linewidth': 1.5},\n",
    "            ax=ax\n",
    "        )\n",
    "        ax.set_ylabel('')\n",
    "\n",
    "    # Titles and labels\n",
    "    plt.title(title, fontsize=16, pad=20)\n",
    "    plt.xlabel(xlabel, fontsize=12)\n",
    "    plt.ylabel(ylabel, fontsize=12)\n",
    "    plt.tight_layout()\n",
    "\n",
    "    return fig, ax"
   ]
  },
  {
   "cell_type": "code",
   "execution_count": 190,
   "id": "ed51793d",
   "metadata": {},
   "outputs": [],
   "source": [
    "# Function to format a numeric value as Brazilian Real currency\n",
    "# Example: 1234567.89 -> 'R$ 1,234,567.89'\n",
    "def format_brl(value):\n",
    "    return f'R$ {value:,.2f}'"
   ]
  },
  {
   "cell_type": "markdown",
   "id": "2bc432f8",
   "metadata": {},
   "source": [
    "#### **Create a random dataset**"
   ]
  },
  {
   "cell_type": "code",
   "execution_count": 191,
   "id": "e442d778",
   "metadata": {},
   "outputs": [
    {
     "name": "stdout",
     "output_type": "stream",
     "text": [
      "\n",
      "Starting the generation of 600 records...\n",
      "Data generation completed successfully.\n",
      "\n"
     ]
    }
   ],
   "source": [
    "# Create a random dataFrame\n",
    "df_sales = gd.generate_fake_data()"
   ]
  },
  {
   "cell_type": "markdown",
   "id": "1c7f8ab9",
   "metadata": {},
   "source": [
    "#### **Exploratory Data Analysis**"
   ]
  },
  {
   "cell_type": "code",
   "execution_count": 192,
   "id": "7df99d3c",
   "metadata": {},
   "outputs": [
    {
     "data": {
      "text/html": [
       "<div>\n",
       "<style scoped>\n",
       "    .dataframe tbody tr th:only-of-type {\n",
       "        vertical-align: middle;\n",
       "    }\n",
       "\n",
       "    .dataframe tbody tr th {\n",
       "        vertical-align: top;\n",
       "    }\n",
       "\n",
       "    .dataframe thead th {\n",
       "        text-align: right;\n",
       "    }\n",
       "</style>\n",
       "<table border=\"1\" class=\"dataframe\">\n",
       "  <thead>\n",
       "    <tr style=\"text-align: right;\">\n",
       "      <th></th>\n",
       "      <th>Order_ID</th>\n",
       "      <th>Order_Date</th>\n",
       "      <th>Product_Name</th>\n",
       "      <th>Category</th>\n",
       "      <th>Unit_Price</th>\n",
       "      <th>Quantity</th>\n",
       "      <th>Customer_ID</th>\n",
       "      <th>City</th>\n",
       "      <th>State</th>\n",
       "    </tr>\n",
       "  </thead>\n",
       "  <tbody>\n",
       "    <tr>\n",
       "      <th>0</th>\n",
       "      <td>1000</td>\n",
       "      <td>2026-01-01 16:00:00</td>\n",
       "      <td>Graphics Card</td>\n",
       "      <td>Hardware</td>\n",
       "      <td>4500.0</td>\n",
       "      <td>3</td>\n",
       "      <td>142</td>\n",
       "      <td>Fortaleza</td>\n",
       "      <td>CE</td>\n",
       "    </tr>\n",
       "    <tr>\n",
       "      <th>1</th>\n",
       "      <td>1001</td>\n",
       "      <td>2026-01-01 14:00:00</td>\n",
       "      <td>Gaming Laptop</td>\n",
       "      <td>Electronics</td>\n",
       "      <td>7500.0</td>\n",
       "      <td>5</td>\n",
       "      <td>129</td>\n",
       "      <td>Fortaleza</td>\n",
       "      <td>CE</td>\n",
       "    </tr>\n",
       "    <tr>\n",
       "      <th>2</th>\n",
       "      <td>1002</td>\n",
       "      <td>2026-01-01 10:00:00</td>\n",
       "      <td>Ultrawide Monitor</td>\n",
       "      <td>Electronics</td>\n",
       "      <td>2800.0</td>\n",
       "      <td>5</td>\n",
       "      <td>112</td>\n",
       "      <td>Salvador</td>\n",
       "      <td>BA</td>\n",
       "    </tr>\n",
       "    <tr>\n",
       "      <th>3</th>\n",
       "      <td>1003</td>\n",
       "      <td>2026-01-01 10:00:00</td>\n",
       "      <td>Ultrawide Monitor</td>\n",
       "      <td>Electronics</td>\n",
       "      <td>2800.0</td>\n",
       "      <td>7</td>\n",
       "      <td>104</td>\n",
       "      <td>Belo Horizonte</td>\n",
       "      <td>MG</td>\n",
       "    </tr>\n",
       "    <tr>\n",
       "      <th>4</th>\n",
       "      <td>1004</td>\n",
       "      <td>2026-01-01 15:00:00</td>\n",
       "      <td>SSD 1TB</td>\n",
       "      <td>Hardware</td>\n",
       "      <td>600.0</td>\n",
       "      <td>1</td>\n",
       "      <td>104</td>\n",
       "      <td>Belo Horizonte</td>\n",
       "      <td>MG</td>\n",
       "    </tr>\n",
       "  </tbody>\n",
       "</table>\n",
       "</div>"
      ],
      "text/plain": [
       "   Order_ID          Order_Date       Product_Name     Category  Unit_Price  \\\n",
       "0      1000 2026-01-01 16:00:00      Graphics Card     Hardware      4500.0   \n",
       "1      1001 2026-01-01 14:00:00      Gaming Laptop  Electronics      7500.0   \n",
       "2      1002 2026-01-01 10:00:00  Ultrawide Monitor  Electronics      2800.0   \n",
       "3      1003 2026-01-01 10:00:00  Ultrawide Monitor  Electronics      2800.0   \n",
       "4      1004 2026-01-01 15:00:00            SSD 1TB     Hardware       600.0   \n",
       "\n",
       "   Quantity  Customer_ID            City State  \n",
       "0         3          142       Fortaleza    CE  \n",
       "1         5          129       Fortaleza    CE  \n",
       "2         5          112        Salvador    BA  \n",
       "3         7          104  Belo Horizonte    MG  \n",
       "4         1          104  Belo Horizonte    MG  "
      ]
     },
     "execution_count": 192,
     "metadata": {},
     "output_type": "execute_result"
    }
   ],
   "source": [
    "# Check the first 5 records\n",
    "df_sales.head()"
   ]
  },
  {
   "cell_type": "code",
   "execution_count": 193,
   "id": "5a56323b",
   "metadata": {},
   "outputs": [
    {
     "data": {
      "text/plain": [
       "(600, 9)"
      ]
     },
     "execution_count": 193,
     "metadata": {},
     "output_type": "execute_result"
    }
   ],
   "source": [
    "# Show how much lines and coluns the DataFrame has\n",
    "df_sales.shape"
   ]
  },
  {
   "cell_type": "code",
   "execution_count": 194,
   "id": "42ddeb82",
   "metadata": {},
   "outputs": [
    {
     "name": "stdout",
     "output_type": "stream",
     "text": [
      "<class 'pandas.core.frame.DataFrame'>\n",
      "RangeIndex: 600 entries, 0 to 599\n",
      "Data columns (total 9 columns):\n",
      " #   Column        Non-Null Count  Dtype         \n",
      "---  ------        --------------  -----         \n",
      " 0   Order_ID      600 non-null    int64         \n",
      " 1   Order_Date    600 non-null    datetime64[ns]\n",
      " 2   Product_Name  600 non-null    object        \n",
      " 3   Category      600 non-null    object        \n",
      " 4   Unit_Price    600 non-null    float64       \n",
      " 5   Quantity      600 non-null    int64         \n",
      " 6   Customer_ID   600 non-null    int64         \n",
      " 7   City          600 non-null    object        \n",
      " 8   State         600 non-null    object        \n",
      "dtypes: datetime64[ns](1), float64(1), int64(3), object(4)\n",
      "memory usage: 42.3+ KB\n"
     ]
    }
   ],
   "source": [
    "# Show important information (null, data type)\n",
    "df_sales.info()"
   ]
  },
  {
   "cell_type": "code",
   "execution_count": 195,
   "id": "32b6b9a3",
   "metadata": {},
   "outputs": [
    {
     "data": {
      "text/html": [
       "<div>\n",
       "<style scoped>\n",
       "    .dataframe tbody tr th:only-of-type {\n",
       "        vertical-align: middle;\n",
       "    }\n",
       "\n",
       "    .dataframe tbody tr th {\n",
       "        vertical-align: top;\n",
       "    }\n",
       "\n",
       "    .dataframe thead th {\n",
       "        text-align: right;\n",
       "    }\n",
       "</style>\n",
       "<table border=\"1\" class=\"dataframe\">\n",
       "  <thead>\n",
       "    <tr style=\"text-align: right;\">\n",
       "      <th></th>\n",
       "      <th>Unit_Price</th>\n",
       "      <th>Quantity</th>\n",
       "    </tr>\n",
       "  </thead>\n",
       "  <tbody>\n",
       "    <tr>\n",
       "      <th>count</th>\n",
       "      <td>600.000000</td>\n",
       "      <td>600.000000</td>\n",
       "    </tr>\n",
       "    <tr>\n",
       "      <th>mean</th>\n",
       "      <td>2415.708433</td>\n",
       "      <td>4.078333</td>\n",
       "    </tr>\n",
       "    <tr>\n",
       "      <th>std</th>\n",
       "      <td>2440.013193</td>\n",
       "      <td>2.026254</td>\n",
       "    </tr>\n",
       "    <tr>\n",
       "      <th>min</th>\n",
       "      <td>225.650000</td>\n",
       "      <td>1.000000</td>\n",
       "    </tr>\n",
       "    <tr>\n",
       "      <th>25%</th>\n",
       "      <td>600.000000</td>\n",
       "      <td>2.000000</td>\n",
       "    </tr>\n",
       "    <tr>\n",
       "      <th>50%</th>\n",
       "      <td>1200.000000</td>\n",
       "      <td>4.000000</td>\n",
       "    </tr>\n",
       "    <tr>\n",
       "      <th>75%</th>\n",
       "      <td>4500.000000</td>\n",
       "      <td>6.000000</td>\n",
       "    </tr>\n",
       "    <tr>\n",
       "      <th>max</th>\n",
       "      <td>7500.000000</td>\n",
       "      <td>7.000000</td>\n",
       "    </tr>\n",
       "  </tbody>\n",
       "</table>\n",
       "</div>"
      ],
      "text/plain": [
       "        Unit_Price    Quantity\n",
       "count   600.000000  600.000000\n",
       "mean   2415.708433    4.078333\n",
       "std    2440.013193    2.026254\n",
       "min     225.650000    1.000000\n",
       "25%     600.000000    2.000000\n",
       "50%    1200.000000    4.000000\n",
       "75%    4500.000000    6.000000\n",
       "max    7500.000000    7.000000"
      ]
     },
     "execution_count": 195,
     "metadata": {},
     "output_type": "execute_result"
    }
   ],
   "source": [
    "# Show statistics summary (mantain just important columns)\n",
    "df_sales[['Unit_Price', 'Quantity']].describe()"
   ]
  },
  {
   "cell_type": "code",
   "execution_count": 196,
   "id": "4c126fac",
   "metadata": {},
   "outputs": [
    {
     "data": {
      "text/plain": [
       "np.int64(0)"
      ]
     },
     "execution_count": 196,
     "metadata": {},
     "output_type": "execute_result"
    }
   ],
   "source": [
    "# Show duplicate values\n",
    "df_sales.duplicated().sum()"
   ]
  },
  {
   "cell_type": "code",
   "execution_count": 197,
   "id": "4498f351",
   "metadata": {},
   "outputs": [],
   "source": [
    "# Convert date columns to datetime type\n",
    "df_sales['Order_Date'] = pd.to_datetime(df_sales['Order_Date'])"
   ]
  },
  {
   "cell_type": "markdown",
   "id": "a67cf123",
   "metadata": {},
   "source": [
    "### **Addressing business-related questions**"
   ]
  },
  {
   "cell_type": "markdown",
   "id": "020bbfac",
   "metadata": {},
   "source": [
    "#### What are the top 10 best-selling products?"
   ]
  },
  {
   "cell_type": "code",
   "execution_count": 198,
   "id": "cc2bb2c9",
   "metadata": {},
   "outputs": [],
   "source": [
    "# Groups the sales data by product name and sums up the total quantity sold for each product\n",
    "top_10_products_by_quantity = df_sales.groupby(\n",
    "    'Product_Name'\n",
    ")['Quantity'].sum().sort_values(ascending = False)"
   ]
  },
  {
   "cell_type": "code",
   "execution_count": 199,
   "id": "5eeaf273",
   "metadata": {},
   "outputs": [
    {
     "data": {
      "text/html": [
       "<div>\n",
       "<style scoped>\n",
       "    .dataframe tbody tr th:only-of-type {\n",
       "        vertical-align: middle;\n",
       "    }\n",
       "\n",
       "    .dataframe tbody tr th {\n",
       "        vertical-align: top;\n",
       "    }\n",
       "\n",
       "    .dataframe thead th {\n",
       "        text-align: right;\n",
       "    }\n",
       "</style>\n",
       "<table border=\"1\" class=\"dataframe\">\n",
       "  <thead>\n",
       "    <tr style=\"text-align: right;\">\n",
       "      <th></th>\n",
       "      <th>Quantity</th>\n",
       "    </tr>\n",
       "    <tr>\n",
       "      <th>Product_Name</th>\n",
       "      <th></th>\n",
       "    </tr>\n",
       "  </thead>\n",
       "  <tbody>\n",
       "    <tr>\n",
       "      <th>Graphics Card</th>\n",
       "      <td>360</td>\n",
       "    </tr>\n",
       "    <tr>\n",
       "      <th>Ultrawide Monitor</th>\n",
       "      <td>323</td>\n",
       "    </tr>\n",
       "    <tr>\n",
       "      <th>Vertical Mouse</th>\n",
       "      <td>314</td>\n",
       "    </tr>\n",
       "    <tr>\n",
       "      <th>Gaming Chair</th>\n",
       "      <td>309</td>\n",
       "    </tr>\n",
       "    <tr>\n",
       "      <th>Headset 7.1</th>\n",
       "      <td>308</td>\n",
       "    </tr>\n",
       "    <tr>\n",
       "      <th>Gaming Laptop</th>\n",
       "      <td>301</td>\n",
       "    </tr>\n",
       "    <tr>\n",
       "      <th>Mechanical Keyboard</th>\n",
       "      <td>300</td>\n",
       "    </tr>\n",
       "    <tr>\n",
       "      <th>SSD 1TB</th>\n",
       "      <td>232</td>\n",
       "    </tr>\n",
       "  </tbody>\n",
       "</table>\n",
       "</div>"
      ],
      "text/plain": [
       "                     Quantity\n",
       "Product_Name                 \n",
       "Graphics Card             360\n",
       "Ultrawide Monitor         323\n",
       "Vertical Mouse            314\n",
       "Gaming Chair              309\n",
       "Headset 7.1               308\n",
       "Gaming Laptop             301\n",
       "Mechanical Keyboard       300\n",
       "SSD 1TB                   232"
      ]
     },
     "execution_count": 199,
     "metadata": {},
     "output_type": "execute_result"
    }
   ],
   "source": [
    "# Converts the result into a DataFrame for easier visualization and analysis\n",
    "pd.DataFrame(top_10_products_by_quantity)"
   ]
  },
  {
   "cell_type": "markdown",
   "id": "afe4c80b",
   "metadata": {},
   "source": [
    "#### What was the revenue for the month?"
   ]
  },
  {
   "cell_type": "code",
   "execution_count": 200,
   "id": "c6a0b422",
   "metadata": {},
   "outputs": [],
   "source": [
    "# Create a month/year column at the DataFrame\n",
    "df_sales['Month_Year'] = df_sales['Order_Date'].dt.strftime('%b-%Y')"
   ]
  },
  {
   "cell_type": "code",
   "execution_count": 201,
   "id": "28d530d3",
   "metadata": {},
   "outputs": [],
   "source": [
    "# Create a column containing the revenue amount\n",
    "df_sales['Revenue_Amount'] =  df_sales['Unit_Price'] * df_sales['Quantity']"
   ]
  },
  {
   "cell_type": "code",
   "execution_count": 202,
   "id": "d26241f0",
   "metadata": {},
   "outputs": [],
   "source": [
    "# Group the sales data by month-year and sums up the total revenue amount\n",
    "total_revenu_by_month =  df_sales.groupby('Month_Year')['Revenue_Amount'].sum().sort_values(ascending = False)"
   ]
  },
  {
   "cell_type": "code",
   "execution_count": 203,
   "id": "c30ad456",
   "metadata": {},
   "outputs": [
    {
     "data": {
      "text/html": [
       "<div>\n",
       "<style scoped>\n",
       "    .dataframe tbody tr th:only-of-type {\n",
       "        vertical-align: middle;\n",
       "    }\n",
       "\n",
       "    .dataframe tbody tr th {\n",
       "        vertical-align: top;\n",
       "    }\n",
       "\n",
       "    .dataframe thead th {\n",
       "        text-align: right;\n",
       "    }\n",
       "</style>\n",
       "<table border=\"1\" class=\"dataframe\">\n",
       "  <thead>\n",
       "    <tr style=\"text-align: right;\">\n",
       "      <th></th>\n",
       "      <th>Revenue_Amount</th>\n",
       "    </tr>\n",
       "    <tr>\n",
       "      <th>Month_Year</th>\n",
       "      <th></th>\n",
       "    </tr>\n",
       "  </thead>\n",
       "  <tbody>\n",
       "    <tr>\n",
       "      <th>Mar-2026</th>\n",
       "      <td>R$ 1,574,231.54</td>\n",
       "    </tr>\n",
       "    <tr>\n",
       "      <th>Feb-2026</th>\n",
       "      <td>R$ 1,543,655.03</td>\n",
       "    </tr>\n",
       "    <tr>\n",
       "      <th>Jan-2026</th>\n",
       "      <td>R$ 1,330,255.54</td>\n",
       "    </tr>\n",
       "    <tr>\n",
       "      <th>Apr-2026</th>\n",
       "      <td>R$ 1,321,429.00</td>\n",
       "    </tr>\n",
       "  </tbody>\n",
       "</table>\n",
       "</div>"
      ],
      "text/plain": [
       "             Revenue_Amount\n",
       "Month_Year                 \n",
       "Mar-2026    R$ 1,574,231.54\n",
       "Feb-2026    R$ 1,543,655.03\n",
       "Jan-2026    R$ 1,330,255.54\n",
       "Apr-2026    R$ 1,321,429.00"
      ]
     },
     "execution_count": 203,
     "metadata": {},
     "output_type": "execute_result"
    }
   ],
   "source": [
    "# Converts the result into a DataFrame for easier visualization and analysis\n",
    "df_display = pd.DataFrame(total_revenu_by_month)\n",
    "\n",
    "df_display['Revenue_Amount'] = df_display['Revenue_Amount'].apply(format_brl)\n",
    "\n",
    "df_display"
   ]
  },
  {
   "cell_type": "markdown",
   "id": "f7a33225",
   "metadata": {},
   "source": [
    "#### What is the total sales by state?"
   ]
  },
  {
   "cell_type": "code",
   "execution_count": 204,
   "id": "0d8bb6a9",
   "metadata": {},
   "outputs": [],
   "source": [
    "# Group the sales data by state and sums up the total revenue amount\n",
    "total_revenu_by_state = df_sales.groupby('State')['Revenue_Amount'].sum().sort_values(ascending = False)"
   ]
  },
  {
   "cell_type": "code",
   "execution_count": 205,
   "id": "9b7fd8a9",
   "metadata": {},
   "outputs": [
    {
     "data": {
      "text/html": [
       "<div>\n",
       "<style scoped>\n",
       "    .dataframe tbody tr th:only-of-type {\n",
       "        vertical-align: middle;\n",
       "    }\n",
       "\n",
       "    .dataframe tbody tr th {\n",
       "        vertical-align: top;\n",
       "    }\n",
       "\n",
       "    .dataframe thead th {\n",
       "        text-align: right;\n",
       "    }\n",
       "</style>\n",
       "<table border=\"1\" class=\"dataframe\">\n",
       "  <thead>\n",
       "    <tr style=\"text-align: right;\">\n",
       "      <th></th>\n",
       "      <th>Revenue_Amount</th>\n",
       "    </tr>\n",
       "    <tr>\n",
       "      <th>State</th>\n",
       "      <th></th>\n",
       "    </tr>\n",
       "  </thead>\n",
       "  <tbody>\n",
       "    <tr>\n",
       "      <th>PR</th>\n",
       "      <td>R$ 1,042,904.66</td>\n",
       "    </tr>\n",
       "    <tr>\n",
       "      <th>RS</th>\n",
       "      <td>R$ 924,468.41</td>\n",
       "    </tr>\n",
       "    <tr>\n",
       "      <th>RJ</th>\n",
       "      <td>R$ 847,745.55</td>\n",
       "    </tr>\n",
       "    <tr>\n",
       "      <th>MG</th>\n",
       "      <td>R$ 846,071.60</td>\n",
       "    </tr>\n",
       "    <tr>\n",
       "      <th>BA</th>\n",
       "      <td>R$ 795,494.21</td>\n",
       "    </tr>\n",
       "    <tr>\n",
       "      <th>CE</th>\n",
       "      <td>R$ 709,149.21</td>\n",
       "    </tr>\n",
       "    <tr>\n",
       "      <th>SP</th>\n",
       "      <td>R$ 603,737.47</td>\n",
       "    </tr>\n",
       "  </tbody>\n",
       "</table>\n",
       "</div>"
      ],
      "text/plain": [
       "        Revenue_Amount\n",
       "State                 \n",
       "PR     R$ 1,042,904.66\n",
       "RS       R$ 924,468.41\n",
       "RJ       R$ 847,745.55\n",
       "MG       R$ 846,071.60\n",
       "BA       R$ 795,494.21\n",
       "CE       R$ 709,149.21\n",
       "SP       R$ 603,737.47"
      ]
     },
     "execution_count": 205,
     "metadata": {},
     "output_type": "execute_result"
    }
   ],
   "source": [
    "# Converts the result into a DataFrame for easier visualization and analysis\n",
    "df_display = pd.DataFrame(total_revenu_by_state)\n",
    "\n",
    "df_display['Revenue_Amount'] = df_display['Revenue_Amount'].apply(format_brl)\n",
    "\n",
    "df_display"
   ]
  },
  {
   "cell_type": "markdown",
   "id": "ae4f5d0c",
   "metadata": {},
   "source": [
    "#### What is the revenue per category?"
   ]
  },
  {
   "cell_type": "code",
   "execution_count": 206,
   "id": "a0f309c4",
   "metadata": {},
   "outputs": [],
   "source": [
    "total_revenu_by_category = df_sales.groupby('Category')['Revenue_Amount'].sum().sort_values(ascending = False)"
   ]
  },
  {
   "cell_type": "code",
   "execution_count": 207,
   "id": "d0b07821",
   "metadata": {},
   "outputs": [
    {
     "data": {
      "text/html": [
       "<div>\n",
       "<style scoped>\n",
       "    .dataframe tbody tr th:only-of-type {\n",
       "        vertical-align: middle;\n",
       "    }\n",
       "\n",
       "    .dataframe tbody tr th {\n",
       "        vertical-align: top;\n",
       "    }\n",
       "\n",
       "    .dataframe thead th {\n",
       "        text-align: right;\n",
       "    }\n",
       "</style>\n",
       "<table border=\"1\" class=\"dataframe\">\n",
       "  <thead>\n",
       "    <tr style=\"text-align: right;\">\n",
       "      <th></th>\n",
       "      <th>Revenue_Amount</th>\n",
       "    </tr>\n",
       "    <tr>\n",
       "      <th>Category</th>\n",
       "      <th></th>\n",
       "    </tr>\n",
       "  </thead>\n",
       "  <tbody>\n",
       "    <tr>\n",
       "      <th>Electronics</th>\n",
       "      <td>R$ 3,161,900.00</td>\n",
       "    </tr>\n",
       "    <tr>\n",
       "      <th>Hardware</th>\n",
       "      <td>R$ 1,759,200.00</td>\n",
       "    </tr>\n",
       "    <tr>\n",
       "      <th>Accessories</th>\n",
       "      <td>R$ 477,671.11</td>\n",
       "    </tr>\n",
       "    <tr>\n",
       "      <th>Furniture</th>\n",
       "      <td>R$ 370,800.00</td>\n",
       "    </tr>\n",
       "  </tbody>\n",
       "</table>\n",
       "</div>"
      ],
      "text/plain": [
       "              Revenue_Amount\n",
       "Category                    \n",
       "Electronics  R$ 3,161,900.00\n",
       "Hardware     R$ 1,759,200.00\n",
       "Accessories    R$ 477,671.11\n",
       "Furniture      R$ 370,800.00"
      ]
     },
     "execution_count": 207,
     "metadata": {},
     "output_type": "execute_result"
    }
   ],
   "source": [
    "df_display = pd.DataFrame(total_revenu_by_category)\n",
    "\n",
    "df_display['Revenue_Amount'] = df_display['Revenue_Amount'].apply(format_brl)\n",
    "\n",
    "df_display"
   ]
  },
  {
   "cell_type": "markdown",
   "id": "9e98facd",
   "metadata": {},
   "source": [
    "### Visualizations for Business Insights"
   ]
  },
  {
   "cell_type": "code",
   "execution_count": 210,
   "id": "8959b609",
   "metadata": {},
   "outputs": [
    {
     "data": {
      "image/png": "[encoded data removed]",
      "text/plain": [
       "<Figure size 1200x600 with 1 Axes>"
      ]
     },
     "metadata": {},
     "output_type": "display_data"
    }
   ],
   "source": [
    "fig, ax = create_chart(top_10_products_by_quantity, 'Top 10 Best-Selling Products', 'Quantity Sold', 'Product', 'barh')"
   ]
  },
  {
   "cell_type": "code",
   "execution_count": null,
   "id": "f0adbaba",
   "metadata": {},
   "outputs": [],
   "source": []
  }
 ],
 "metadata": {
  "kernelspec": {
   "display_name": ".venv (3.13.7)",
   "language": "python",
   "name": "python3"
  },
  "language_info": {
   "codemirror_mode": {
    "name": "ipython",
    "version": 3
   },
   "file_extension": ".py",
   "mimetype": "text/x-python",
   "name": "python",
   "nbconvert_exporter": "python",
   "pygments_lexer": "ipython3",
   "version": "3.13.7"
  }
 },
 "nbformat": 4,
 "nbformat_minor": 5
}
